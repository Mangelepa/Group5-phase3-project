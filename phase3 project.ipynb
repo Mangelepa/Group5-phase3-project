{
 "cells": [
  {
   "cell_type": "markdown",
   "id": "729c32b0-e630-4c72-b069-1c07798da9dc",
   "metadata": {},
   "source": [
    "##  SyriaTel Customer Churn Prediction"
   ]
  },
  {
   "cell_type": "markdown",
   "id": "a17bcfe0-05d4-43e7-b76d-77b14c08b28e",
   "metadata": {},
   "source": [
    "## Authors: Musi Calori, Jessica Gichimu, Vicker Ivy, Bob Lewis\n"
   ]
  },
  {
   "cell_type": "markdown",
   "id": "9f41ac08-55e3-470b-ac5c-ff0adfd2da51",
   "metadata": {},
   "source": [
    "## 1. BUSINESS UNDERSTANDING"
   ]
  },
  {
   "cell_type": "markdown",
   "id": "96e7653a-da61-4bb2-a426-408a476f75a3",
   "metadata": {},
   "source": [
    "### 1.1 Business Overview"
   ]
  },
  {
   "cell_type": "markdown",
   "id": "b2b7f743-b00c-42cf-8062-66a7cbb59b2f",
   "metadata": {},
   "source": [
    "The telecommunications industry has become very competitive over the years, with customer retention emerging as a critical challenge. One of the major issues facing telecom providers is customer churn, a scenario where users discontinue their service, either due to dissatisfaction from the provider, or due to the availability of better alternatives. High churn rates can significantly impact a company's overall revenue, and scaling potential.\n",
    "\n",
    "In response to this challenge, telecom companies are exploring churn prediction mechanisms, which will proactively address customer concerns, improve service delivery, and implement targeted retention strategies. In light of this, this project aims to develop a predictive model that will identify customers at risk of churning, helping SyriaTel Telecommunications company minimize churn, and enhance long-term profitability"
   ]
  },
  {
   "cell_type": "code",
   "execution_count": null,
   "id": "ab105f0e-6c1c-4231-9dd7-ee48e85236da",
   "metadata": {},
   "outputs": [],
   "source": []
  }
 ],
 "metadata": {
  "kernelspec": {
   "display_name": "Python 3 (ipykernel)",
   "language": "python",
   "name": "python3"
  },
  "language_info": {
   "codemirror_mode": {
    "name": "ipython",
    "version": 3
   },
   "file_extension": ".py",
   "mimetype": "text/x-python",
   "name": "python",
   "nbconvert_exporter": "python",
   "pygments_lexer": "ipython3",
   "version": "3.12.7"
  }
 },
 "nbformat": 4,
 "nbformat_minor": 5
}
