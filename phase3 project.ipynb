{
 "cells": [
  {
   "cell_type": "markdown",
   "id": "729c32b0-e630-4c72-b069-1c07798da9dc",
   "metadata": {},
   "source": [
    "##  SyriaTel Customer Churn Prediction"
   ]
  },
  {
   "cell_type": "markdown",
   "id": "a17bcfe0-05d4-43e7-b76d-77b14c08b28e",
   "metadata": {},
   "source": [
    "## Authors: Musi Calori, Jessica Gichimu, Vicker Ivy, Bob Lewis\n"
   ]
  },
  {
   "cell_type": "markdown",
   "id": "9f41ac08-55e3-470b-ac5c-ff0adfd2da51",
   "metadata": {},
   "source": [
    "## 1. BUSINESS UNDERSTANDING"
   ]
  },
  {
   "cell_type": "markdown",
   "id": "96e7653a-da61-4bb2-a426-408a476f75a3",
   "metadata": {},
   "source": [
    "### 1.1 Business Overview"
   ]
  },
  {
   "cell_type": "markdown",
   "id": "b2b7f743-b00c-42cf-8062-66a7cbb59b2f",
   "metadata": {},
   "source": [
    "The telecommunications industry has become very competitive over the years, with customer retention emerging as a critical challenge. One of the major issues facing telecom providers is customer churn, a scenario where users discontinue their service, either due to dissatisfaction from the provider or due to the availability of better alternatives. High churn rates can significantly impact a company's overall revenue, and scaling potential.\n",
    "\n"
   ]
  },
  {
   "cell_type": "markdown",
   "id": "03933bb2-27cd-4d89-b976-3807c856ba52",
   "metadata": {},
   "source": [
    "### 1.2 Problem Statement"
   ]
  },
  {
   "cell_type": "markdown",
   "id": "5c3ef667-dc80-4f01-a90d-0761dd800f79",
   "metadata": {},
   "source": [
    "SyriaTel, a leading telecom provider, is experiencing a significant loss of customers. To address this challenge, the company seeks to build a robust predictive model capable of identifying customers who are at risk of churning. By using data driven insights and predictive modeling, SyriaTel aims to understand the key drivers of customer churning, determing methods of improving long term retention of customers and enhance long term customer loyalty."
   ]
  },
  {
   "cell_type": "markdown",
   "id": "b3b73076-627e-4fc4-b4a1-603b2dd795c1",
   "metadata": {},
   "source": [
    "### 1.3 Business Objective"
   ]
  },
  {
   "cell_type": "markdown",
   "id": "133b80db-9b26-452c-b396-1d49b8e18cea",
   "metadata": {},
   "source": [
    "#### Main Objective"
   ]
  },
  {
   "cell_type": "code",
   "execution_count": null,
   "id": "3ca7ab7a-5366-4dab-80a9-1e14b5706062",
   "metadata": {},
   "outputs": [],
   "source": []
  }
 ],
 "metadata": {
  "kernelspec": {
   "display_name": "Python 3 (ipykernel)",
   "language": "python",
   "name": "python3"
  },
  "language_info": {
   "codemirror_mode": {
    "name": "ipython",
    "version": 3
   },
   "file_extension": ".py",
   "mimetype": "text/x-python",
   "name": "python",
   "nbconvert_exporter": "python",
   "pygments_lexer": "ipython3",
   "version": "3.12.7"
  }
 },
 "nbformat": 4,
 "nbformat_minor": 5
}
